{
 "cells": [
  {
   "cell_type": "code",
   "execution_count": 1,
   "metadata": {
    "collapsed": true
   },
   "outputs": [],
   "source": [
    "# coding: utf-8\n",
    "\n",
    "# In[ ]:\n",
    "import sys, os        \n",
    "sys.path.insert(0, '..')\n",
    "from lib import models, graph, coarsening, utils, gconvRNN\n",
    "import numpy as np\n",
    "import time\n",
    "from nips2016 import humantraffic\n",
    "from tensorflow.python import debug as tf_debug\n",
    "%matplotlib inline\n",
    "import matplotlib.pyplot as plt\n",
    "import tensorflow as tf\n",
    "import math\n",
    "np.random.seed(2017) \n",
    "# notification\n",
    "sys.path.insert(0, '../../')\n",
    "\n",
    "\n",
    "\n",
    "# 配置显存大小\n",
    "config = tf.ConfigProto()\n",
    "config.gpu_options.allow_growth = True\n",
    "sess = tf.Session(config=config)\n",
    "# gpu_options = tf.GPUOptions(per_process_gpu_memory_fraction=0.4)\n",
    "# sess = tf.Session(config=tf.ConfigProto(gpu_options=gpu_options))\n",
    "#config = tf.ConfigProto(\n",
    "#         device_count = {'GPU': 0}\n",
    "#     )\n",
    "# sess = tf.Session(config=config)\n",
    "\n",
    "# In[ ]:\n",
    "\n",
    "flags = tf.app.flags\n",
    "FLAGS = flags.FLAGS\n",
    "\n",
    "# Graphs.\n",
    "flags.DEFINE_integer('number_edges', 8, 'Graph: minimum number of edges per vertex.')\n",
    "flags.DEFINE_string('metric', 'euclidean', 'Graph: similarity measure (between features).')\n",
    "# TODO: change cgcnn for combinatorial Laplacians.\n",
    "flags.DEFINE_bool('normalized_laplacian', True, 'Graph Laplacian: normalized.')\n",
    "flags.DEFINE_integer('coarsening_levels', 4, 'Number of coarsened graphs.')\n",
    "\n",
    "# Directories.\n",
    "flags.DEFINE_string('dir_data', os.path.join('..', 'data', 'mnist'), 'Directory to store data.')"
   ]
  },
  {
   "cell_type": "code",
   "execution_count": 2,
   "metadata": {
    "collapsed": true
   },
   "outputs": [],
   "source": [
    "from CoreUtils.SendNotification import send_notification\n",
    "from CoreUtils import SendNotification\n",
    "# SendNotification.http_config = '59.66.107.198'\n",
    "SendNotification.http_config = '192.168.34.138'\n",
    "# print()"
   ]
  },
  {
   "cell_type": "code",
   "execution_count": 3,
   "metadata": {},
   "outputs": [
    {
     "name": "stdout",
     "output_type": "stream",
     "text": [
      "current path is /home/csi/Git/HumanFlowPrediction/cnn_graph/nips2016\n"
     ]
    }
   ],
   "source": [
    "print('current path is {0}'.format(os.getcwd()))"
   ]
  },
  {
   "cell_type": "code",
   "execution_count": 4,
   "metadata": {},
   "outputs": [
    {
     "name": "stdout",
     "output_type": "stream",
     "text": [
      "1646 > 1600 edges\n",
      "Execution time: 0.11s\n"
     ]
    }
   ],
   "source": [
    "# In[ ]:\n",
    "def sparse_matrix_element_wise_max(A, B):\n",
    "    BisBigger = A-B\n",
    "    BisBigger.data = np.where(BisBigger.data < 0, 1, 0)\n",
    "    return A - A.multiply(BisBigger) + B.multiply(BisBigger)\n",
    "def grid_graph(m, corners=False):\n",
    "    z = graph.grid(m)\n",
    "    dist, idx = graph.distance_sklearn_metrics(z, k=FLAGS.number_edges, metric=FLAGS.metric)\n",
    "    A = graph.adjacency(dist, idx)\n",
    "\n",
    "    # Connections are only vertical or horizontal on the grid.\n",
    "    # Corner vertices are connected to 2 neightbors only.\n",
    "    if corners:\n",
    "        import scipy.sparse\n",
    "        A = A.toarray()\n",
    "        A[A < A.max()/1.5] = 0\n",
    "        A = scipy.sparse.csr_matrix(A)\n",
    "        print('{} edges'.format(A.nnz))\n",
    "\n",
    "    print(\"{} > {} edges\".format(A.nnz//2, FLAGS.number_edges*m**2//2))\n",
    "    return A\n",
    "\n",
    "t_start = time.process_time()\n",
    "A = grid_graph(20, corners=False)\n",
    "# A = graph.replace_random_edges(A, 0)\n",
    "# graphs, perm = coarsening.coarsen(A, levels=FLAGS.coarsening_levels, self_connections=False)\n",
    "L = [graph.laplacian(A, normalized=True)] # [graph.laplacian(A, normalized=True) for A in graphs]\n",
    "print('Execution time: {:.2f}s'.format(time.process_time() - t_start))\n",
    "# graph.plot_spectrum(L)\n",
    "# del A"
   ]
  },
  {
   "cell_type": "code",
   "execution_count": 5,
   "metadata": {},
   "outputs": [
    {
     "name": "stdout",
     "output_type": "stream",
     "text": [
      "shape of data_samples: 1533\n",
      "Execution time: 0.04s\n",
      "train_data shape:  (1149, 82, 6)\n"
     ]
    }
   ],
   "source": [
    "# experiment init\n",
    "# DATA_SET_PATH='../../data/lndata'\n",
    "# DATA_SET_PATH='../../data/lndata_filter'\n",
    "DATA_SET_PATH='../../data/lndata_street5'\n",
    "#DATA_SET_PATH='../../data/bjtaxi'\n",
    "# DATA_SET_PATH='../../data/shanxidata'\n",
    "seq_num = 3\n",
    "t_start = time.process_time()\n",
    "ht = humantraffic.HumanTraffic(DATA_SET_PATH)\n",
    "# train_data, val_data, test_data, train_labels, val_labels, test_labels, A1 = ht.load_bj_data(seq_num)\n",
    "train_data, val_data, test_data, train_labels, val_labels, test_labels, A1 = ht.load_lndata_street(seq_num, datafile='split_lndata_street.mat')\n",
    "# train_data, val_data, test_data, train_labels, val_labels, test_labels, A1 = ht.load_split_ln_data(seq_num)\n",
    "A1 = A1.astype(np.float32)\n",
    "# A = sparse_matrix_element_wise_max(A, A1)\n",
    "# A = A.astype(np.float32)\n",
    "L = [graph.laplacian(A1, normalized=True)] # [graph.laplacian(A, normalized=True) for A in graphs]\n",
    "lmax = graph.lmax(L)\n",
    "#del A\n",
    "train_data_ = np.zeros((train_data.shape[0], train_data.shape[1], train_data.shape[2]))\n",
    "print('Execution time: {:.2f}s'.format(time.process_time() - t_start))\n",
    "print('train_data shape: ', train_data.shape)"
   ]
  },
  {
   "cell_type": "code",
   "execution_count": 6,
   "metadata": {},
   "outputs": [
    {
     "name": "stdout",
     "output_type": "stream",
     "text": [
      "(1149, 82, 2)\n"
     ]
    },
    {
     "data": {
      "text/plain": [
       "[<matplotlib.lines.Line2D at 0x7fa1552e8d68>,\n",
       " <matplotlib.lines.Line2D at 0x7fa1552e8f28>]"
      ]
     },
     "execution_count": 6,
     "metadata": {},
     "output_type": "execute_result"
    },
    {
     "data": {
      "image/png": "[encoded data removed]",
      "text/plain": [
       "<matplotlib.figure.Figure at 0x7fa194bc1be0>"
      ]
     },
     "metadata": {},
     "output_type": "display_data"
    }
   ],
   "source": [
    "print(train_labels.shape)\n",
    "plt.plot(train_labels[:, 69])"
   ]
  },
  {
   "cell_type": "code",
   "execution_count": 7,
   "metadata": {},
   "outputs": [
    {
     "name": "stdout",
     "output_type": "stream",
     "text": [
      "(1149, 82, 6)\n"
     ]
    }
   ],
   "source": [
    "# In[ ]:\n",
    "common = {}\n",
    "common['dir_name']       = 'mnist/'\n",
    "common['num_epochs']     = 100\n",
    "common['batch_size']     = 100\n",
    "common['decay_steps']    = train_data.shape[0] / common['batch_size']\n",
    "common['eval_frequency'] = 100\n",
    "common['brelu']          = 'b1relu'\n",
    "common['pool']           = 'mpool1'\n",
    "# C = max(mnist.train.labels) + 1  # number of classes\n",
    "model_perf = utils.model_perf()\n",
    "print(train_data.shape)\n",
    "# Common hyper-parameters for networks with one convolutional layer.\n",
    "common['regularization'] = 0\n",
    "common['dropout']        = 1\n",
    "common['learning_rate']  = 0.02\n",
    "common['decay_rate']     = 0.9\n",
    "common['momentum']       = 0.9\n",
    "common['F']              = [10]\n",
    "common['K']              = [20]\n",
    "common['p']              = [1]\n",
    "common['M']              = [train_data.shape[1]]"
   ]
  },
  {
   "cell_type": "code",
   "execution_count": 8,
   "metadata": {
    "scrolled": false
   },
   "outputs": [
    {
     "name": "stdout",
     "output_type": "stream",
     "text": [
      "NN architecture\n",
      "  input: M_0 = 82\n",
      "  layer 1: cgconv1\n",
      "    representation: M_0 * F_1 / p_1 = 82 * 10 / 1 = 820\n",
      "    weights: F_0 * F_1 * K_1 = 1 * 10 * 1 = 10\n",
      "    biases: F_1 = 10\n",
      "  layer 2: logits (softmax)\n",
      "    representation: M_2 = 82\n",
      "    weights: M_1 * M_2 = 820 * 82 = 67240\n",
      "    biases: M_2 = 82\n",
      "dict_keys(['conv_init/weights:0', 'conv_init/filter/transpose_2:0', 'conv_init/activation/Relu:0', 'residual_layer_0/sublayer0/weights:0', 'residual_layer_0/sublayer1/weights:0', 'residual_layer_0/sublayer1/activation2/Relu:0', 'residual_layer_1/sublayer0/weights:0', 'residual_layer_1/sublayer1/weights:0', 'residual_layer_1/sublayer1/activation2/Relu:0', 'residual_layer_2/sublayer0/weights:0', 'residual_layer_2/sublayer1/weights:0', 'residual_layer_2/sublayer1/activation2/Relu:0', 'residual_layer_3/sublayer0/weights:0', 'residual_layer_3/sublayer1/weights:0', 'residual_layer_3/sublayer1/activation2/Relu:0', 'convN/weights:0', 'convN/filter/transpose_2:0'])\n",
      "step 100 / 1149 (epoch 8.70 / 100):\n",
      "  learning_rate = 8.61e-03, loss_average = 3.16e-04\n",
      "  validation mse: 0.00037 ( 191), f1 (weighted), loss: 3.68e-04\n",
      "  time: 4s (wall 6s)\n",
      "time spend 5.843412399291992...:\n",
      "\n",
      "step 200 / 1149 (epoch 17.41 / 100):\n",
      "  learning_rate = 3.34e-03, loss_average = 2.23e-04\n",
      "  validation mse: 0.00036 ( 191), f1 (weighted), loss: 3.63e-04\n",
      "  time: 7s (wall 11s)\n",
      "time spend 4.712719917297363...:\n",
      "\n",
      "step 300 / 1149 (epoch 26.11 / 100):\n",
      "  learning_rate = 1.29e-03, loss_average = 1.85e-04\n",
      "  validation mse: 0.00038 ( 191), f1 (weighted), loss: 3.77e-04\n",
      "  time: 10s (wall 15s)\n",
      "time spend 3.6505556106567383...:\n",
      "\n",
      "step 400 / 1149 (epoch 34.81 / 100):\n",
      "  learning_rate = 5.56e-04, loss_average = 1.69e-04\n",
      "  validation mse: 0.00038 ( 191), f1 (weighted), loss: 3.81e-04\n",
      "  time: 13s (wall 18s)\n",
      "time spend 3.566054344177246...:\n",
      "\n",
      "step 500 / 1149 (epoch 43.52 / 100):\n",
      "  learning_rate = 2.16e-04, loss_average = 1.66e-04\n",
      "  validation mse: 0.00038 ( 191), f1 (weighted), loss: 3.84e-04\n",
      "  time: 17s (wall 22s)\n",
      "time spend 3.571373462677002...:\n",
      "\n",
      "step 600 / 1149 (epoch 52.22 / 100):\n",
      "  learning_rate = 8.35e-05, loss_average = 1.62e-04\n",
      "  validation mse: 0.00038 ( 191), f1 (weighted), loss: 3.85e-04\n",
      "  time: 20s (wall 25s)\n",
      "time spend 3.6249754428863525...:\n",
      "\n",
      "step 700 / 1149 (epoch 60.92 / 100):\n",
      "  learning_rate = 3.59e-05, loss_average = 1.59e-04\n",
      "  validation mse: 0.00039 ( 191), f1 (weighted), loss: 3.86e-04\n",
      "  time: 23s (wall 29s)\n",
      "time spend 3.6611413955688477...:\n",
      "\n",
      "step 800 / 1149 (epoch 69.63 / 100):\n",
      "  learning_rate = 1.39e-05, loss_average = 1.61e-04\n",
      "  validation mse: 0.00039 ( 191), f1 (weighted), loss: 3.86e-04\n",
      "  time: 26s (wall 33s)\n",
      "time spend 3.6783015727996826...:\n",
      "\n",
      "step 900 / 1149 (epoch 78.33 / 100):\n",
      "  learning_rate = 5.39e-06, loss_average = 1.64e-04\n",
      "  validation mse: 0.00039 ( 191), f1 (weighted), loss: 3.86e-04\n",
      "  time: 29s (wall 36s)\n",
      "time spend 3.6328482627868652...:\n",
      "\n",
      "step 1000 / 1149 (epoch 87.03 / 100):\n",
      "  learning_rate = 2.32e-06, loss_average = 1.61e-04\n",
      "  validation mse: 0.00039 ( 191), f1 (weighted), loss: 3.86e-04\n",
      "  time: 32s (wall 40s)\n",
      "time spend 3.6065657138824463...:\n",
      "\n",
      "step 1100 / 1149 (epoch 95.74 / 100):\n",
      "  learning_rate = 9.00e-07, loss_average = 1.61e-04\n",
      "  validation mse: 0.00039 ( 191), f1 (weighted), loss: 3.86e-04\n",
      "  time: 37s (wall 59s)\n",
      "time spend 19.303922176361084...:\n",
      "\n",
      "step 1149 / 1149 (epoch 100.00 / 100):\n",
      "  learning_rate = 5.90e-07, loss_average = 1.59e-04\n",
      "  validation mse: 0.00039 ( 191), f1 (weighted), loss: 3.86e-04\n",
      "  time: 38s (wall 61s)\n",
      "time spend 1.857457160949707...:\n",
      "\n",
      "validation accuracy: peak = 0.00, mean = 0.00\n",
      "INFO:tensorflow:Restoring parameters from /home/csi/Git/HumanFlowPrediction/cnn_graph/lib/../checkpoints/mnist/fgconv_softmax/model-1149\n",
      "train mse: 0.00016 ( 1149), f1 (weighted), loss: 1.60e-04\n",
      "time: 1s (wall 0s)\n",
      "INFO:tensorflow:Restoring parameters from /home/csi/Git/HumanFlowPrediction/cnn_graph/lib/../checkpoints/mnist/fgconv_softmax/model-1149\n",
      "test  mse: 0.00037 ( 193), f1 (weighted), loss: 3.74e-04\n",
      "time: 1s (wall 0s)\n",
      "total time 62.86317563056946 elapse...\n",
      "\n",
      "8.966820849449956\n",
      "13.686520854294065\n",
      "train finish...\n",
      "\n"
     ]
    }
   ],
   "source": [
    "# In[ ]:\n",
    "\n",
    "if True:\n",
    "    \n",
    "    # sess = tf.Session(config=config)\n",
    "    start_time = time.time()\n",
    "    name = 'fgconv_softmax'\n",
    "    params = common.copy()\n",
    "    params['dir_name'] += name\n",
    "    # params['filter'] = 'chebyshev5' # fourier\n",
    "    params['filter'] = 'fourier'\n",
    "    params['_nfilter'] = 64\n",
    "    params['_nres_layer_count'] = 4\n",
    "    params['K'] = [1]\n",
    "    params['C_0'] = train_data.shape[2]\n",
    "    params['model_name'] = 'ResGNN'\n",
    "    model = gconvRNN.Model(L, lmax)\n",
    "    train_pred, test_pred =  model_perf.test(models.cgcnn(L, **params), name, params,\n",
    "                    train_data, train_labels, val_data, val_labels, test_data, test_labels)\n",
    "\n",
    "    train_pred, test_pred = ht.reverse_normalize(train_pred), ht.reverse_normalize(test_pred)\n",
    "    train_target, test_target = ht.reverse_normalize(train_labels), ht.reverse_normalize(test_labels)\n",
    "    end_time = time.time()\n",
    "    print(\"total time {0} elapse...\\n\".format(end_time - start_time))\n",
    "    #\n",
    "    # real_data = np.concatenate(train_labels, test_labels)\n",
    "    # pred_data = np.concatenate(train_pred, test_pred)\n",
    "    print(str(math.sqrt(np.sum((train_target - train_pred) ** 2) / (train_pred.shape[0] * train_pred.shape[1] * train_pred.shape[2]))))\n",
    "    print(str(math.sqrt(np.sum((test_target - test_pred) ** 2) / (test_pred.shape[0] * test_pred.shape[1] * test_pred.shape[2]))))\n",
    "    print('train finish...\\n')\n",
    "    # send_notification('cnn_graph finished part 1', 'cnn_grpah')"
   ]
  },
  {
   "cell_type": "code",
   "execution_count": 9,
   "metadata": {},
   "outputs": [],
   "source": [
    "from scipy.io import savemat"
   ]
  },
  {
   "cell_type": "code",
   "execution_count": 10,
   "metadata": {
    "collapsed": true
   },
   "outputs": [],
   "source": [
    "savemat('street.mat', {'test_target':test_target, 'test_pred': test_pred})"
   ]
  },
  {
   "cell_type": "code",
   "execution_count": null,
   "metadata": {
    "collapsed": true
   },
   "outputs": [],
   "source": []
  }
 ],
 "metadata": {
  "kernelspec": {
   "display_name": "Python 3",
   "language": "python",
   "name": "python3"
  },
  "language_info": {
   "codemirror_mode": {
    "name": "ipython",
    "version": 3
   },
   "file_extension": ".py",
   "mimetype": "text/x-python",
   "name": "python",
   "nbconvert_exporter": "python",
   "pygments_lexer": "ipython3",
   "version": "3.5.2"
  }
 },
 "nbformat": 4,
 "nbformat_minor": 1
}
