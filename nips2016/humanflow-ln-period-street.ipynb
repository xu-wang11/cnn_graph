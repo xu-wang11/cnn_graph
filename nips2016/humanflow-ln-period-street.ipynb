{
 "cells": [
  {
   "cell_type": "code",
   "execution_count": 1,
   "metadata": {
    "collapsed": true
   },
   "outputs": [],
   "source": [
    "# coding: utf-8\n",
    "\n",
    "# In[ ]:\n",
    "import sys, os        \n",
    "sys.path.insert(0, '..')\n",
    "from lib import models, graph, coarsening, utils\n",
    "import numpy as np\n",
    "import time\n",
    "from nips2016 import humantraffic\n",
    "from tensorflow.python import debug as tf_debug\n",
    "%matplotlib inline\n",
    "import matplotlib.pyplot as plt\n",
    "import tensorflow as tf\n",
    "import math\n",
    "np.random.seed(2017) \n",
    "# notification\n",
    "sys.path.insert(0, '../../')\n",
    "\n",
    "\n",
    "# 配置显存大小\n",
    "config = tf.ConfigProto()\n",
    "config.gpu_options.allow_growth = True\n",
    "sess = tf.Session(config=config)\n",
    "# gpu_options = tf.GPUOptions(per_process_gpu_memory_fraction=0.4)\n",
    "# sess = tf.Session(config=tf.ConfigProto(gpu_options=gpu_options))\n",
    "#config = tf.ConfigProto(\n",
    "#         device_count = {'GPU': 0}\n",
    "#     )\n",
    "# sess = tf.Session(config=config)\n",
    "\n",
    "# In[ ]:\n",
    "\n",
    "flags = tf.app.flags\n",
    "FLAGS = flags.FLAGS\n",
    "\n",
    "# Graphs.\n",
    "flags.DEFINE_integer('number_edges', 8, 'Graph: minimum number of edges per vertex.')\n",
    "flags.DEFINE_string('metric', 'euclidean', 'Graph: similarity measure (between features).')\n",
    "# TODO: change cgcnn for combinatorial Laplacians.\n",
    "flags.DEFINE_bool('normalized_laplacian', True, 'Graph Laplacian: normalized.')\n",
    "flags.DEFINE_integer('coarsening_levels', 4, 'Number of coarsened graphs.')\n",
    "\n",
    "# Directories.\n",
    "flags.DEFINE_string('dir_data', os.path.join('..', 'data', 'mnist'), 'Directory to store data.')"
   ]
  },
  {
   "cell_type": "code",
   "execution_count": 2,
   "metadata": {
    "collapsed": true
   },
   "outputs": [],
   "source": [
    "from CoreUtils.SendNotification import send_notification\n",
    "from CoreUtils import SendNotification\n",
    "# SendNotification.http_config = '59.66.107.198'\n",
    "SendNotification.http_config = '192.168.34.138'\n",
    "# print()"
   ]
  },
  {
   "cell_type": "code",
   "execution_count": 3,
   "metadata": {},
   "outputs": [
    {
     "name": "stdout",
     "output_type": "stream",
     "text": [
      "current path is /home/csi/Git/HumanFlowPrediction/cnn_graph/nips2016\n"
     ]
    }
   ],
   "source": [
    "print('current path is {0}'.format(os.getcwd()))"
   ]
  },
  {
   "cell_type": "code",
   "execution_count": 4,
   "metadata": {},
   "outputs": [
    {
     "name": "stdout",
     "output_type": "stream",
     "text": [
      "1646 > 1600 edges\n",
      "Execution time: 0.12s\n"
     ]
    }
   ],
   "source": [
    "# In[ ]:\n",
    "def sparse_matrix_element_wise_max(A, B):\n",
    "    BisBigger = A-B\n",
    "    BisBigger.data = np.where(BisBigger.data < 0, 1, 0)\n",
    "    return A - A.multiply(BisBigger) + B.multiply(BisBigger)\n",
    "def grid_graph(m, corners=False):\n",
    "    z = graph.grid(m)\n",
    "    dist, idx = graph.distance_sklearn_metrics(z, k=FLAGS.number_edges, metric=FLAGS.metric)\n",
    "    A = graph.adjacency(dist, idx)\n",
    "\n",
    "    # Connections are only vertical or horizontal on the grid.\n",
    "    # Corner vertices are connected to 2 neightbors only.\n",
    "    if corners:\n",
    "        import scipy.sparse\n",
    "        A = A.toarray()\n",
    "        A[A < A.max()/1.5] = 0\n",
    "        A = scipy.sparse.csr_matrix(A)\n",
    "        print('{} edges'.format(A.nnz))\n",
    "\n",
    "    print(\"{} > {} edges\".format(A.nnz//2, FLAGS.number_edges*m**2//2))\n",
    "    return A\n",
    "\n",
    "t_start = time.process_time()\n",
    "A = grid_graph(20, corners=False)\n",
    "# A = graph.replace_random_edges(A, 0)\n",
    "# graphs, perm = coarsening.coarsen(A, levels=FLAGS.coarsening_levels, self_connections=False)\n",
    "L = [graph.laplacian(A, normalized=True)] # [graph.laplacian(A, normalized=True) for A in graphs]\n",
    "print('Execution time: {:.2f}s'.format(time.process_time() - t_start))\n",
    "# graph.plot_spectrum(L)\n",
    "# del A"
   ]
  },
  {
   "cell_type": "code",
   "execution_count": 5,
   "metadata": {},
   "outputs": [
    {
     "name": "stdout",
     "output_type": "stream",
     "text": [
      "shape of data_samples: 1488\n",
      "Execution time: 0.05s\n",
      "train_data shape:  (1116, 82, 8)\n"
     ]
    }
   ],
   "source": [
    "# experiment init\n",
    "# DATA_SET_PATH='../../data/lndata'\n",
    "# DATA_SET_PATH='../../data/lndata_filter'\n",
    "DATA_SET_PATH='../../data/lndata_street5'\n",
    "#DATA_SET_PATH='../../data/bjtaxi'\n",
    "# DATA_SET_PATH='../../data/shanxidata'\n",
    "seq_num = 3\n",
    "t_start = time.process_time()\n",
    "ht = humantraffic.HumanTraffic(DATA_SET_PATH)\n",
    "# train_data, val_data, test_data, train_labels, val_labels, test_labels, A1 = ht.load_bj_data(seq_num)\n",
    "train_data, val_data, test_data, train_labels, val_labels, test_labels, A1 = ht.load_ln_data_period(seq_num, datafile='lndata_street.mat')\n",
    "# train_data, val_data, test_data, train_labels, val_labels, test_labels, A1 = ht.load_split_ln_data(seq_num)\n",
    "A1 = A1.astype(np.float32)\n",
    "# A = sparse_matrix_element_wise_max(A, A1)\n",
    "# A = A.astype(np.float32)\n",
    "L = [graph.laplacian(A1, normalized=True)] # [graph.laplacian(A, normalized=True) for A in graphs]\n",
    "#del A\n",
    "train_data_ = np.zeros((train_data.shape[0], train_data.shape[1], train_data.shape[2]))\n",
    "print('Execution time: {:.2f}s'.format(time.process_time() - t_start))\n",
    "print('train_data shape: ', train_data.shape)"
   ]
  },
  {
   "cell_type": "code",
   "execution_count": 6,
   "metadata": {},
   "outputs": [
    {
     "name": "stdout",
     "output_type": "stream",
     "text": [
      "(1116, 82, 2)\n"
     ]
    },
    {
     "data": {
      "text/plain": [
       "[<matplotlib.lines.Line2D at 0x7f967bc2bcf8>]"
      ]
     },
     "execution_count": 6,
     "metadata": {},
     "output_type": "execute_result"
    },
    {
     "data": {
      "image/png": "[encoded data removed]",
      "text/plain": [
       "<matplotlib.figure.Figure at 0x7f96b43d3240>"
      ]
     },
     "metadata": {},
     "output_type": "display_data"
    }
   ],
   "source": [
    "print(train_labels.shape)\n",
    "plt.plot(train_labels[:, 12, 0])"
   ]
  },
  {
   "cell_type": "code",
   "execution_count": 7,
   "metadata": {},
   "outputs": [
    {
     "name": "stdout",
     "output_type": "stream",
     "text": [
      "(1116, 82, 8)\n"
     ]
    }
   ],
   "source": [
    "# In[ ]:\n",
    "common = {}\n",
    "common['dir_name']       = 'mnist/'\n",
    "common['num_epochs']     = 100\n",
    "common['batch_size']     = 100\n",
    "common['decay_steps']    = train_data.shape[0] / common['batch_size']\n",
    "common['eval_frequency'] = 100\n",
    "common['brelu']          = 'b1relu'\n",
    "common['pool']           = 'mpool1'\n",
    "# C = max(mnist.train.labels) + 1  # number of classes\n",
    "model_perf = utils.model_perf()\n",
    "print(train_data.shape)\n",
    "# Common hyper-parameters for networks with one convolutional layer.\n",
    "common['regularization'] = 0\n",
    "common['dropout']        = 1\n",
    "\n",
    "common['decay_rate']     = 0.9\n",
    "common['momentum']       = 0.9\n",
    "common['F']              = [10]\n",
    "common['K']              = [20]\n",
    "common['p']              = [1]\n",
    "common['M']              = [train_data.shape[1]]"
   ]
  },
  {
   "cell_type": "code",
   "execution_count": 8,
   "metadata": {
    "scrolled": false
   },
   "outputs": [
    {
     "name": "stdout",
     "output_type": "stream",
     "text": [
      "NN architecture\n",
      "  input: M_0 = 82\n",
      "  layer 1: cgconv1\n",
      "    representation: M_0 * F_1 / p_1 = 82 * 10 / 1 = 820\n",
      "    weights: F_0 * F_1 * K_1 = 1 * 10 * 20 = 200\n",
      "    biases: F_1 = 10\n",
      "  layer 2: logits (softmax)\n",
      "    representation: M_2 = 82\n",
      "    weights: M_1 * M_2 = 820 * 82 = 67240\n",
      "    biases: M_2 = 82\n",
      "dict_keys(['conv_init/weights:0', 'conv_init/filter/transpose_2:0', 'conv_init/activation/Relu:0', 'residual_layer_0/sublayer0/weights:0', 'residual_layer_0/sublayer1/weights:0', 'residual_layer_0/sublayer1/activation2/Relu:0', 'residual_layer_1/sublayer0/weights:0', 'residual_layer_1/sublayer1/weights:0', 'residual_layer_1/sublayer1/activation2/Relu:0', 'residual_layer_2/sublayer0/weights:0', 'residual_layer_2/sublayer1/weights:0', 'residual_layer_2/sublayer1/activation2/Relu:0', 'convN/weights:0', 'convN/filter/transpose_2:0'])\n",
      "step 100 / 1116 (epoch 8.96 / 100):\n",
      "  learning_rate = 8.61e-03, loss_average = 3.11e-04\n",
      "  validation mse: 0.00033 ( 186), f1 (weighted), loss: 3.27e-04\n",
      "  time: 3s (wall 3s)\n",
      "time spend 2.9461443424224854...:\n",
      "\n",
      "step 200 / 1116 (epoch 17.92 / 100):\n",
      "  learning_rate = 3.34e-03, loss_average = 2.55e-04\n",
      "  validation mse: 0.00030 ( 186), f1 (weighted), loss: 3.01e-04\n",
      "  time: 6s (wall 6s)\n",
      "time spend 2.993788003921509...:\n",
      "\n",
      "step 300 / 1116 (epoch 26.88 / 100):\n",
      "  learning_rate = 1.29e-03, loss_average = 2.24e-04\n",
      "  validation mse: 0.00030 ( 186), f1 (weighted), loss: 3.02e-04\n",
      "  time: 8s (wall 9s)\n",
      "time spend 2.926858901977539...:\n",
      "\n",
      "step 400 / 1116 (epoch 35.84 / 100):\n",
      "  learning_rate = 5.01e-04, loss_average = 2.05e-04\n",
      "  validation mse: 0.00030 ( 186), f1 (weighted), loss: 3.02e-04\n",
      "  time: 11s (wall 12s)\n",
      "time spend 2.9183125495910645...:\n",
      "\n",
      "step 500 / 1116 (epoch 44.80 / 100):\n",
      "  learning_rate = 1.94e-04, loss_average = 1.97e-04\n",
      "  validation mse: 0.00030 ( 186), f1 (weighted), loss: 3.05e-04\n",
      "  time: 13s (wall 15s)\n",
      "time spend 2.9441750049591064...:\n",
      "\n",
      "step 600 / 1116 (epoch 53.76 / 100):\n",
      "  learning_rate = 7.51e-05, loss_average = 1.93e-04\n",
      "  validation mse: 0.00031 ( 186), f1 (weighted), loss: 3.06e-04\n",
      "  time: 16s (wall 18s)\n",
      "time spend 2.8874833583831787...:\n",
      "\n",
      "step 700 / 1116 (epoch 62.72 / 100):\n",
      "  learning_rate = 2.91e-05, loss_average = 1.92e-04\n",
      "  validation mse: 0.00031 ( 186), f1 (weighted), loss: 3.06e-04\n",
      "  time: 19s (wall 21s)\n",
      "time spend 3.0370876789093018...:\n",
      "\n",
      "step 800 / 1116 (epoch 71.68 / 100):\n",
      "  learning_rate = 1.13e-05, loss_average = 1.91e-04\n",
      "  validation mse: 0.00031 ( 186), f1 (weighted), loss: 3.06e-04\n",
      "  time: 22s (wall 24s)\n",
      "time spend 2.9783198833465576...:\n",
      "\n",
      "step 900 / 1116 (epoch 80.65 / 100):\n",
      "  learning_rate = 4.37e-06, loss_average = 1.93e-04\n",
      "  validation mse: 0.00031 ( 186), f1 (weighted), loss: 3.06e-04\n",
      "  time: 24s (wall 27s)\n",
      "time spend 2.8884506225585938...:\n",
      "\n",
      "step 1000 / 1116 (epoch 89.61 / 100):\n",
      "  learning_rate = 1.69e-06, loss_average = 1.95e-04\n",
      "  validation mse: 0.00031 ( 186), f1 (weighted), loss: 3.06e-04\n",
      "  time: 27s (wall 30s)\n",
      "time spend 2.877513885498047...:\n",
      "\n",
      "step 1100 / 1116 (epoch 98.57 / 100):\n",
      "  learning_rate = 6.56e-07, loss_average = 1.91e-04\n",
      "  validation mse: 0.00031 ( 186), f1 (weighted), loss: 3.06e-04\n",
      "  time: 29s (wall 33s)\n",
      "time spend 2.9047930240631104...:\n",
      "\n",
      "step 1116 / 1116 (epoch 100.00 / 100):\n",
      "  learning_rate = 5.90e-07, loss_average = 1.92e-04\n",
      "  validation mse: 0.00031 ( 186), f1 (weighted), loss: 3.06e-04\n",
      "  time: 30s (wall 33s)\n",
      "time spend 0.5946557521820068...:\n",
      "\n",
      "validation accuracy: peak = 0.00, mean = 0.00\n",
      "INFO:tensorflow:Restoring parameters from /home/csi/Git/HumanFlowPrediction/cnn_graph/lib/../checkpoints/mnist/fgconv_softmax_period/model-1116\n",
      "train mse: 0.00019 ( 1116), f1 (weighted), loss: 1.93e-04\n",
      "time: 0s (wall 0s)\n",
      "INFO:tensorflow:Restoring parameters from /home/csi/Git/HumanFlowPrediction/cnn_graph/lib/../checkpoints/mnist/fgconv_softmax_period/model-1116\n",
      "test  mse: 0.00033 ( 186), f1 (weighted), loss: 3.30e-04\n",
      "time: 1s (wall 0s)\n",
      "total time 34.91310119628906 elapse...\n",
      "\n",
      "10.09544138049216\n",
      "13.205229545329832\n",
      "train finish...\n",
      "\n"
     ]
    }
   ],
   "source": [
    "# In[ ]:\n",
    "\n",
    "if True:\n",
    "    \n",
    "    # sess = tf.Session(config=config)\n",
    "    start_time = time.time()\n",
    "    name = 'fgconv_softmax_period'\n",
    "    params = common.copy()\n",
    "    params['dir_name'] += name\n",
    "    # params['filter'] = 'chebyshev5' # fourier\n",
    "    params['filter'] = 'fourier'\n",
    "    params['_nfilter'] = 64\n",
    "    params['_nres_layer_count'] = 3\n",
    "    params['K'] = [20]\n",
    "    params['C_0'] = train_data.shape[2]\n",
    "    params['model_name'] = 'ResGNN'\n",
    "    params['learning_rate'] = 0.02\n",
    "    #params['model_name'] = 'GNN'\n",
    "    train_pred, test_pred =  model_perf.test(models.cgcnn(L, **params), name, params,\n",
    "                    train_data, train_labels, val_data, val_labels, test_data, test_labels)\n",
    "\n",
    "    train_pred, test_pred = ht.reverse_normalize(train_pred), ht.reverse_normalize(test_pred)\n",
    "    train_target, test_target = ht.reverse_normalize(train_labels), ht.reverse_normalize(test_labels)\n",
    "    end_time = time.time()\n",
    "    print(\"total time {0} elapse...\\n\".format(end_time - start_time))\n",
    "    #\n",
    "    # real_data = np.concatenate(train_labels, test_labels)\n",
    "    # pred_data = np.concatenate(train_pred, test_pred)\n",
    "    print(str(math.sqrt(np.sum((train_target - train_pred) ** 2) / (train_pred.shape[0] * train_pred.shape[1] * train_pred.shape[2]))))\n",
    "    print(str(math.sqrt(np.sum((test_target - test_pred) ** 2) / (test_pred.shape[0] * test_pred.shape[1] * test_pred.shape[2]))))\n",
    "    print('train finish...\\n')\n",
    "    # send_notification('cnn_graph finished part 1', 'cnn_grpah')"
   ]
  },
  {
   "cell_type": "code",
   "execution_count": 9,
   "metadata": {
    "collapsed": true
   },
   "outputs": [],
   "source": [
    "from scipy.io import savemat\n",
    "savemat('period.mat', {'test_target':test_target, 'test_pred': test_pred})"
   ]
  },
  {
   "cell_type": "code",
   "execution_count": null,
   "metadata": {
    "collapsed": true
   },
   "outputs": [],
   "source": []
  }
 ],
 "metadata": {
  "kernelspec": {
   "display_name": "Python 3",
   "language": "python",
   "name": "python3"
  },
  "language_info": {
   "codemirror_mode": {
    "name": "ipython",
    "version": 3
   },
   "file_extension": ".py",
   "mimetype": "text/x-python",
   "name": "python",
   "nbconvert_exporter": "python",
   "pygments_lexer": "ipython3",
   "version": "3.6.1"
  }
 },
 "nbformat": 4,
 "nbformat_minor": 1
}
